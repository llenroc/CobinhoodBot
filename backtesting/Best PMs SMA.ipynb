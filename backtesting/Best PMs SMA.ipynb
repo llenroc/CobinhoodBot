{
 "cells": [
  {
   "cell_type": "code",
   "execution_count": 5,
   "metadata": {},
   "outputs": [],
   "source": [
    "import os\n",
    "import time\n",
    "import pandas as pd\n",
    "import numpy as np\n",
    "import matplotlib.pyplot as plt\n",
    "from pylab import plt\n",
    "plt.style.use('seaborn')\n",
    "%matplotlib inline"
   ]
  },
  {
   "cell_type": "code",
   "execution_count": 6,
   "metadata": {},
   "outputs": [],
   "source": [
    "def get_acum(pm1, pm2, Temp_df):\n",
    "    \n",
    "    Temp_df['PM1'] = Temp_df['Average'].rolling(pm1).mean()\n",
    "    Temp_df['PM2'] = Temp_df['Average'].rolling(pm2).mean()\n",
    "    Temp_df.dropna(inplace = True)\n",
    "    Temp_df['Posicion'] = np.where(Temp_df['PM1'] > Temp_df['PM2'], 1, -1)\n",
    "    Temp_df['Retornos'] = np.log(Temp_df['Average']/Temp_df['Average'].shift(1))\n",
    "    Temp_df.dropna(inplace = True)\n",
    "    Temp_df['Estrategia'] = Temp_df['Retornos']*Temp_df['Posicion'].shift(1)\n",
    "    Temp_df.dropna(inplace = True)\n",
    "    # Temp_df['Retacum'] = Temp_df['Retornos'].cumsum().apply(np.exp)\n",
    "    Temp_df['Estracum'] = Temp_df['Estrategia'].cumsum().apply(np.exp)\n",
    "    \n",
    "    return Temp_df['Estracum'].tail(1).copy()"
   ]
  },
  {
   "cell_type": "code",
   "execution_count": 7,
   "metadata": {},
   "outputs": [],
   "source": [
    "def best_strategy(pm1, pm2, Bitso):\n",
    "    \n",
    "    Bitso['PM1'] = Bitso['Average'].rolling(pm1).mean()\n",
    "    Bitso['PM2'] = Bitso['Average'].rolling(pm2).mean()\n",
    "    Bitso.dropna(inplace = True)\n",
    "    Bitso.plot(figsize=(12,8))\n",
    "    Bitso['Posicion'] = np.where(Bitso['PM1'] > Bitso['PM2'], 1, -1)\n",
    "    Bitso.plot(figsize=(12,8), secondary_y = 'Posicion')\n",
    "    Bitso['Retornos'] = np.log(Bitso['Average']/Bitso['Average'].shift(1))\n",
    "    Bitso.dropna(inplace = True)\n",
    "    Bitso['Estrategia'] = Bitso['Retornos']* Bitso['Posicion'].shift(1)\n",
    "    Bitso.dropna(inplace = True)\n",
    "    Bitso['Retacum'] = Bitso['Retornos'].cumsum().apply(np.exp)\n",
    "    Bitso['Estracum'] = Bitso['Estrategia'].cumsum().apply(np.exp)\n",
    "\n",
    "    #------------------Print it out\n",
    "    fig = plt.figure(figsize=(14,14))\n",
    "\n",
    "    ax1 = plt.subplot2grid((25,1),(0,0),rowspan = 8, colspan = 1)\n",
    "    Bitso['Average'].plot(title = ('Estrategia PMs ' + str(pm1*10) + ', ' + str(pm2*10)))\n",
    "    Bitso['PM1'].plot(ax=ax1)\n",
    "    Bitso['PM2'].plot(ax=ax1)\n",
    "\n",
    "    ax1.set_ylabel('Ultimo Precio, PM1, PM2')\n",
    "    plt.xticks([],[])\n",
    "\n",
    "    ax2 = plt.subplot2grid((25,1),(8,0), rowspan = 3, colspan = 1)\n",
    "    Bitso['Posicion'].plot(ylim=[-1.1,1.1])\n",
    "    ax2.set_ylabel('Posicion')\n",
    "    plt.xticks([],[])\n",
    "\n",
    "    ax3=plt.subplot2grid((25,1),(11,0),rowspan = 8, colspan = 1)\n",
    "    Bitso[['Retacum', 'Estracum']].plot(ax = ax3)\n",
    "    ax3.set_ylabel('Retornos Acumulados')\n",
    "    plt.xticks([],[])\n",
    "    \n",
    "    return Bitso"
   ]
  },
  {
   "cell_type": "code",
   "execution_count": null,
   "metadata": {},
   "outputs": [
    {
     "name": "stdout",
     "output_type": "stream",
     "text": [
      "PM1: 60 | PM2: 61 | Best: 0\n",
      "PM1: 60 | PM2: 351 | Best: 0.8599846263542594\n",
      "PM1: 60 | PM2: 441 | Best: 0.8609015103187656\n",
      "PM1: 60 | PM2: 451 | Best: 0.9412170090034656\n",
      "PM1: 60 | PM2: 471 | Best: 1.0400026880266073\n",
      "PM1: 60 | PM2: 491 | Best: 1.1930054385028155\n",
      "PM1: 60 | PM2: 531 | Best: 1.3692231606368153\n",
      "PM1: 60 | PM2: 541 | Best: 1.3786712706046513\n",
      "PM1: 60 | PM2: 551 | Best: 1.422187097984463\n",
      "PM1: 60 | PM2: 561 | Best: 1.4557769066484687\n",
      "PM1: 60 | PM2: 1061 | Best: 1.5352787468558662\n",
      "PM1: 60 | PM2: 1101 | Best: 1.594352212545536\n",
      "PM1: 60 | PM2: 1111 | Best: 1.6811605484541907\n",
      "PM1: 60 | PM2: 1121 | Best: 1.80290665092084\n",
      "PM1: 60 | PM2: 1161 | Best: 1.8587933293307746\n",
      "PM1: 60 | PM2: 1171 | Best: 1.9169363807477544\n",
      "PM1: 60 | PM2: 1441 | Best: 2.141990715966317\n",
      "PM1: 60 | PM2: 3051 | Best: 2.2221264082661447"
     ]
    }
   ],
   "source": [
    "Best_Stra = 0\n",
    "Best_PM1 = 0\n",
    "Best_PM2 = 0\n",
    "Last_PM1 = 43200 # 30 dias = 43200 min\n",
    "Last_PM2 = 43200\n",
    "\n",
    "the_path = os.getcwd()\n",
    "data_path = os.path.join(the_path, '../data/processed-data/')\n",
    "file_name = 'processed.csv'\n",
    "file_path = data_path + file_name\n",
    "df = pd.read_csv(file_path, index_col='Date')\n",
    "\n",
    "df.drop(df.columns[df.columns.str.contains('unnamed',case = False)],axis = 1, inplace = True)\n",
    "df.index = pd.to_datetime(df.index)\n",
    "df_M = df.last('7M').copy()\n",
    "\n",
    "#For cycle para ver cual es la mejor combinacion\n",
    "\n",
    "for pm1 in np.arange(60, Last_PM1, 10):\n",
    "    for pm2 in np.arange(1, Last_PM2, 10):\n",
    "        if (pm1<pm2):\n",
    "            Val_Stra = get_acum(pm1, pm2, df_M.copy())\n",
    "            print ('\\rPM1: {} | PM2: {} | Best: {}'.format(pm1,pm2,Best_Stra),end='')\n",
    "            if (Val_Stra[0] > Best_Stra):\n",
    "                Best_Stra = Val_Stra[0]\n",
    "                Best_PM1 = pm1\n",
    "                Best_PM2 = pm2\n",
    "                print ('\\nPM1: {} | PM2: {} | Best: {}'.format(pm1,pm2,Best_Stra),end='')\n",
    "print('\\nDONE!')"
   ]
  },
  {
   "cell_type": "code",
   "execution_count": null,
   "metadata": {},
   "outputs": [],
   "source": [
    "Best = best_strategy(Best_PM1,Best_PM2,df_M)\n",
    "Best['Estracum'].tail(1) - Best['Retacum'].tail(1)"
   ]
  },
  {
   "cell_type": "code",
   "execution_count": null,
   "metadata": {},
   "outputs": [],
   "source": []
  }
 ],
 "metadata": {
  "kernelspec": {
   "display_name": "Python 3",
   "language": "python",
   "name": "python3"
  },
  "language_info": {
   "codemirror_mode": {
    "name": "ipython",
    "version": 3
   },
   "file_extension": ".py",
   "mimetype": "text/x-python",
   "name": "python",
   "nbconvert_exporter": "python",
   "pygments_lexer": "ipython3",
   "version": "3.6.5"
  }
 },
 "nbformat": 4,
 "nbformat_minor": 2
}
