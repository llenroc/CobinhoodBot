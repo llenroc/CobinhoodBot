{
 "cells": [
  {
   "cell_type": "code",
   "execution_count": 2,
   "metadata": {},
   "outputs": [
    {
     "name": "stderr",
     "output_type": "stream",
     "text": [
      "/usr/lib/python3.6/importlib/_bootstrap.py:219: RuntimeWarning: numpy.dtype size changed, may indicate binary incompatibility. Expected 96, got 88\n",
      "  return f(*args, **kwds)\n",
      "/usr/lib/python3.6/importlib/_bootstrap.py:219: RuntimeWarning: numpy.dtype size changed, may indicate binary incompatibility. Expected 96, got 88\n",
      "  return f(*args, **kwds)\n"
     ]
    }
   ],
   "source": [
    "import os\n",
    "import time\n",
    "import pandas as pd\n",
    "import numpy as np\n",
    "%matplotlib notebook\n",
    "import matplotlib.pyplot as plt"
   ]
  },
  {
   "cell_type": "code",
   "execution_count": 3,
   "metadata": {},
   "outputs": [],
   "source": [
    "def get_acum(pm1, pm2, Temp_df):\n",
    "    \n",
    "    Temp_df['PM1'] = Temp_df['Average'].rolling(pm1).mean()\n",
    "    Temp_df['PM2'] = Temp_df['Average'].rolling(pm2).mean()\n",
    "    Temp_df.dropna(inplace = True)\n",
    "    Temp_df['Posicion'] = np.where(Temp_df['PM1'] > Temp_df['PM2'], 1, -1)\n",
    "    Temp_df['Retornos'] = np.log(Temp_df['Average']/Temp_df['Average'].shift(1))\n",
    "    Temp_df.dropna(inplace = True)\n",
    "    Temp_df['Estrategia'] = Temp_df['Retornos']*Temp_df['Posicion'].shift(1)\n",
    "    Temp_df.dropna(inplace = True)\n",
    "    # Temp_df['Retacum'] = Temp_df['Retornos'].cumsum().apply(np.exp)\n",
    "    Temp_df['Estracum'] = Temp_df['Estrategia'].cumsum().apply(np.exp)\n",
    "    \n",
    "    return Temp_df['Estracum'].tail(1).copy()"
   ]
  },
  {
   "cell_type": "code",
   "execution_count": 4,
   "metadata": {},
   "outputs": [],
   "source": [
    "def best_strategy(pm1, pm2, Bitso):\n",
    "    \n",
    "    Bitso['PM1'] = Bitso['Average'].rolling(pm1).mean()\n",
    "    Bitso['PM2'] = Bitso['Average'].rolling(pm2).mean()\n",
    "    Bitso.dropna(inplace = True)\n",
    "    Bitso.plot(figsize=(12,8))\n",
    "    Bitso['Posicion'] = np.where(Bitso['PM1'] > Bitso['PM2'], 1, -1)\n",
    "    Bitso.plot(figsize=(12,8), secondary_y = 'Posicion')\n",
    "    Bitso['Retornos'] = np.log(Bitso['Average']/Bitso['Average'].shift(1))\n",
    "    Bitso.dropna(inplace = True)\n",
    "    Bitso['Estrategia'] = Bitso['Retornos']* Bitso['Posicion'].shift(1)\n",
    "    Bitso.dropna(inplace = True)\n",
    "    Bitso['Retacum'] = Bitso['Retornos'].cumsum().apply(np.exp)\n",
    "    Bitso['Estracum'] = Bitso['Estrategia'].cumsum().apply(np.exp)\n",
    "\n",
    "    #------------------Print it out\n",
    "    fig = plt.figure(figsize=(14,14))\n",
    "\n",
    "    ax1 = plt.subplot2grid((25,1),(0,0),rowspan = 8, colspan = 1)\n",
    "    Bitso['Average'].plot(title = ('Estrategia PMs ' + str(pm1*10) + ', ' + str(pm2*10)))\n",
    "    Bitso['PM1'].plot(ax=ax1)\n",
    "    Bitso['PM2'].plot(ax=ax1)\n",
    "\n",
    "    ax1.set_ylabel('Ultimo Precio, PM1, PM2')\n",
    "    plt.xticks([],[])\n",
    "\n",
    "    ax2 = plt.subplot2grid((25,1),(8,0), rowspan = 3, colspan = 1)\n",
    "    Bitso['Posicion'].plot(ylim=[-1.1,1.1])\n",
    "    ax2.set_ylabel('Posicion')\n",
    "    plt.xticks([],[])\n",
    "\n",
    "    ax3=plt.subplot2grid((25,1),(11,0),rowspan = 8, colspan = 1)\n",
    "    Bitso[['Retacum', 'Estracum']].plot(ax = ax3)\n",
    "    ax3.set_ylabel('Retornos Acumulados')\n",
    "    plt.xticks([],[])\n",
    "    \n",
    "    return Bitso"
   ]
  },
  {
   "cell_type": "code",
   "execution_count": 4,
   "metadata": {},
   "outputs": [
    {
     "data": {
      "text/plain": [
       "'\\nBest So Far:\\nPM1: 1090\\nPM2: 1101\\nScore: 4.1813\\n'"
      ]
     },
     "execution_count": 4,
     "metadata": {},
     "output_type": "execute_result"
    }
   ],
   "source": [
    "'''\n",
    "Best So Far:\n",
    "PM1: 1099\n",
    "PM2: 1145\n",
    "Score: 4.1813\n",
    "\n",
    "7 DIAS:\n",
    "PM1: 100, 127, 139, 142, 157, 250, 598, 631, 712, 733, 742, 763, 769, 772, 775, 778, 781, 787, 847, 958, 1096, 1135, 1180\n",
    "PM2: 251, 211, 211, 211, 161, 291, 621, 1161, 1241, 1061, 1045, 1051, 911, 1061, 1061, 1061, 821, 881, 1161, 1101, 1201, 1181\n",
    "Score: 1.16, 1.11, 1.12, 1.16, 1.19, 1.08, 1.08, 1.09, 1.09, 1.1, 1.1, 1.1, 1.1, 1.11, 1.11, 1.11, 1.15, 1.1, 1.08, 1.12, 1.13\n",
    "'''"
   ]
  },
  {
   "cell_type": "code",
   "execution_count": 5,
   "metadata": {
    "scrolled": true
   },
   "outputs": [
    {
     "name": "stdout",
     "output_type": "stream",
     "text": [
      "(289640, 1)\n",
      "Actual || PM1: 1100 | PM2: 1101 | Score: 4.375732434254478\n",
      "\n",
      "Actual || PM1: 1100 | PM2: 1102 | Score: 4.752424829509363\n",
      "\n",
      "Actual || PM1: 1100 | PM2: 1104 | Score: 4.759569792960748\n",
      "\n",
      "Actual || PM1: 1100 | PM2: 1105 | Score: 5.116523630269828\n",
      "\n",
      "Actual || PM1: 1100 | PM2: 1106 | Score: 5.399699915211564\n",
      "\n",
      "Actual || PM1: 1100 | PM2: 1141 | Score: 5.4088285099505466\n",
      "\n",
      "Actual || PM1: 1100 | PM2: 1143 | Score: 5.869511691037143\n",
      "\n",
      "Actual || PM1: 1100 | PM2: 1144 | Score: 6.29146368268285\n",
      "\n",
      "Actual || PM1: 1100 | PM2: 1145 | Score: 6.447514354666609\n",
      "\n",
      "Actual || PM1: 1102 | PM2: 1144 | Score: 6.4539789862447435\n",
      "\n",
      "Actual || PM1: 1103 | PM2: 1144 | Score: 6.8611382681292546\n",
      "\n",
      "Actual || PM1: 1112 | PM2: 1273 | Score: 1.8441812954243355"
     ]
    },
    {
     "ename": "KeyboardInterrupt",
     "evalue": "",
     "output_type": "error",
     "traceback": [
      "\u001b[0;31m---------------------------------------------------------------------------\u001b[0m",
      "\u001b[0;31mKeyboardInterrupt\u001b[0m                         Traceback (most recent call last)",
      "\u001b[0;32m<ipython-input-5-7446b45a3199>\u001b[0m in \u001b[0;36m<module>\u001b[0;34m()\u001b[0m\n\u001b[1;32m     38\u001b[0m         \u001b[0;32mif\u001b[0m \u001b[0;34m(\u001b[0m\u001b[0mpm1\u001b[0m\u001b[0;34m<\u001b[0m\u001b[0mpm2\u001b[0m\u001b[0;34m)\u001b[0m \u001b[0;32mand\u001b[0m \u001b[0;34m(\u001b[0m\u001b[0mpm1\u001b[0m\u001b[0;34m/\u001b[0m\u001b[0mpm2\u001b[0m\u001b[0;34m>\u001b[0m\u001b[0;36m0.5\u001b[0m\u001b[0;34m)\u001b[0m\u001b[0;34m:\u001b[0m\u001b[0;34m\u001b[0m\u001b[0m\n\u001b[1;32m     39\u001b[0m             \u001b[0;31m# i += 1\u001b[0m\u001b[0;34m\u001b[0m\u001b[0;34m\u001b[0m\u001b[0m\n\u001b[0;32m---> 40\u001b[0;31m             \u001b[0mVal_Stra\u001b[0m \u001b[0;34m=\u001b[0m \u001b[0mget_acum\u001b[0m\u001b[0;34m(\u001b[0m\u001b[0mpm1\u001b[0m\u001b[0;34m,\u001b[0m \u001b[0mpm2\u001b[0m\u001b[0;34m,\u001b[0m \u001b[0mdf_M\u001b[0m\u001b[0;34m.\u001b[0m\u001b[0mcopy\u001b[0m\u001b[0;34m(\u001b[0m\u001b[0;34m)\u001b[0m\u001b[0;34m)\u001b[0m\u001b[0;34m\u001b[0m\u001b[0m\n\u001b[0m\u001b[1;32m     41\u001b[0m             \u001b[0;31m# L_i.append(i)\u001b[0m\u001b[0;34m\u001b[0m\u001b[0;34m\u001b[0m\u001b[0m\n\u001b[1;32m     42\u001b[0m             \u001b[0;31m# L_v.append(Val_Stra)\u001b[0m\u001b[0;34m\u001b[0m\u001b[0;34m\u001b[0m\u001b[0m\n",
      "\u001b[0;32m<ipython-input-3-82436e5ce90f>\u001b[0m in \u001b[0;36mget_acum\u001b[0;34m(pm1, pm2, Temp_df)\u001b[0m\n\u001b[1;32m      1\u001b[0m \u001b[0;32mdef\u001b[0m \u001b[0mget_acum\u001b[0m\u001b[0;34m(\u001b[0m\u001b[0mpm1\u001b[0m\u001b[0;34m,\u001b[0m \u001b[0mpm2\u001b[0m\u001b[0;34m,\u001b[0m \u001b[0mTemp_df\u001b[0m\u001b[0;34m)\u001b[0m\u001b[0;34m:\u001b[0m\u001b[0;34m\u001b[0m\u001b[0m\n\u001b[1;32m      2\u001b[0m \u001b[0;34m\u001b[0m\u001b[0m\n\u001b[0;32m----> 3\u001b[0;31m     \u001b[0mTemp_df\u001b[0m\u001b[0;34m[\u001b[0m\u001b[0;34m'PM1'\u001b[0m\u001b[0;34m]\u001b[0m \u001b[0;34m=\u001b[0m \u001b[0mTemp_df\u001b[0m\u001b[0;34m[\u001b[0m\u001b[0;34m'Average'\u001b[0m\u001b[0;34m]\u001b[0m\u001b[0;34m.\u001b[0m\u001b[0mrolling\u001b[0m\u001b[0;34m(\u001b[0m\u001b[0mpm1\u001b[0m\u001b[0;34m)\u001b[0m\u001b[0;34m.\u001b[0m\u001b[0mmean\u001b[0m\u001b[0;34m(\u001b[0m\u001b[0;34m)\u001b[0m\u001b[0;34m\u001b[0m\u001b[0m\n\u001b[0m\u001b[1;32m      4\u001b[0m     \u001b[0mTemp_df\u001b[0m\u001b[0;34m[\u001b[0m\u001b[0;34m'PM2'\u001b[0m\u001b[0;34m]\u001b[0m \u001b[0;34m=\u001b[0m \u001b[0mTemp_df\u001b[0m\u001b[0;34m[\u001b[0m\u001b[0;34m'Average'\u001b[0m\u001b[0;34m]\u001b[0m\u001b[0;34m.\u001b[0m\u001b[0mrolling\u001b[0m\u001b[0;34m(\u001b[0m\u001b[0mpm2\u001b[0m\u001b[0;34m)\u001b[0m\u001b[0;34m.\u001b[0m\u001b[0mmean\u001b[0m\u001b[0;34m(\u001b[0m\u001b[0;34m)\u001b[0m\u001b[0;34m\u001b[0m\u001b[0m\n\u001b[1;32m      5\u001b[0m     \u001b[0mTemp_df\u001b[0m\u001b[0;34m.\u001b[0m\u001b[0mdropna\u001b[0m\u001b[0;34m(\u001b[0m\u001b[0minplace\u001b[0m \u001b[0;34m=\u001b[0m \u001b[0;32mTrue\u001b[0m\u001b[0;34m)\u001b[0m\u001b[0;34m\u001b[0m\u001b[0m\n",
      "\u001b[0;32m/usr/local/lib/python3.6/dist-packages/pandas/core/frame.py\u001b[0m in \u001b[0;36m__setitem__\u001b[0;34m(self, key, value)\u001b[0m\n\u001b[1;32m   2517\u001b[0m         \u001b[0;32melse\u001b[0m\u001b[0;34m:\u001b[0m\u001b[0;34m\u001b[0m\u001b[0m\n\u001b[1;32m   2518\u001b[0m             \u001b[0;31m# set column\u001b[0m\u001b[0;34m\u001b[0m\u001b[0;34m\u001b[0m\u001b[0m\n\u001b[0;32m-> 2519\u001b[0;31m             \u001b[0mself\u001b[0m\u001b[0;34m.\u001b[0m\u001b[0m_set_item\u001b[0m\u001b[0;34m(\u001b[0m\u001b[0mkey\u001b[0m\u001b[0;34m,\u001b[0m \u001b[0mvalue\u001b[0m\u001b[0;34m)\u001b[0m\u001b[0;34m\u001b[0m\u001b[0m\n\u001b[0m\u001b[1;32m   2520\u001b[0m \u001b[0;34m\u001b[0m\u001b[0m\n\u001b[1;32m   2521\u001b[0m     \u001b[0;32mdef\u001b[0m \u001b[0m_setitem_slice\u001b[0m\u001b[0;34m(\u001b[0m\u001b[0mself\u001b[0m\u001b[0;34m,\u001b[0m \u001b[0mkey\u001b[0m\u001b[0;34m,\u001b[0m \u001b[0mvalue\u001b[0m\u001b[0;34m)\u001b[0m\u001b[0;34m:\u001b[0m\u001b[0;34m\u001b[0m\u001b[0m\n",
      "\u001b[0;32m/usr/local/lib/python3.6/dist-packages/pandas/core/frame.py\u001b[0m in \u001b[0;36m_set_item\u001b[0;34m(self, key, value)\u001b[0m\n\u001b[1;32m   2583\u001b[0m \u001b[0;34m\u001b[0m\u001b[0m\n\u001b[1;32m   2584\u001b[0m         \u001b[0mself\u001b[0m\u001b[0;34m.\u001b[0m\u001b[0m_ensure_valid_index\u001b[0m\u001b[0;34m(\u001b[0m\u001b[0mvalue\u001b[0m\u001b[0;34m)\u001b[0m\u001b[0;34m\u001b[0m\u001b[0m\n\u001b[0;32m-> 2585\u001b[0;31m         \u001b[0mvalue\u001b[0m \u001b[0;34m=\u001b[0m \u001b[0mself\u001b[0m\u001b[0;34m.\u001b[0m\u001b[0m_sanitize_column\u001b[0m\u001b[0;34m(\u001b[0m\u001b[0mkey\u001b[0m\u001b[0;34m,\u001b[0m \u001b[0mvalue\u001b[0m\u001b[0;34m)\u001b[0m\u001b[0;34m\u001b[0m\u001b[0m\n\u001b[0m\u001b[1;32m   2586\u001b[0m         \u001b[0mNDFrame\u001b[0m\u001b[0;34m.\u001b[0m\u001b[0m_set_item\u001b[0m\u001b[0;34m(\u001b[0m\u001b[0mself\u001b[0m\u001b[0;34m,\u001b[0m \u001b[0mkey\u001b[0m\u001b[0;34m,\u001b[0m \u001b[0mvalue\u001b[0m\u001b[0;34m)\u001b[0m\u001b[0;34m\u001b[0m\u001b[0m\n\u001b[1;32m   2587\u001b[0m \u001b[0;34m\u001b[0m\u001b[0m\n",
      "\u001b[0;32m/usr/local/lib/python3.6/dist-packages/pandas/core/frame.py\u001b[0m in \u001b[0;36m_sanitize_column\u001b[0;34m(self, key, value, broadcast)\u001b[0m\n\u001b[1;32m   2737\u001b[0m \u001b[0;34m\u001b[0m\u001b[0m\n\u001b[1;32m   2738\u001b[0m         \u001b[0;32mif\u001b[0m \u001b[0misinstance\u001b[0m\u001b[0;34m(\u001b[0m\u001b[0mvalue\u001b[0m\u001b[0;34m,\u001b[0m \u001b[0mSeries\u001b[0m\u001b[0;34m)\u001b[0m\u001b[0;34m:\u001b[0m\u001b[0;34m\u001b[0m\u001b[0m\n\u001b[0;32m-> 2739\u001b[0;31m             \u001b[0mvalue\u001b[0m \u001b[0;34m=\u001b[0m \u001b[0mreindexer\u001b[0m\u001b[0;34m(\u001b[0m\u001b[0mvalue\u001b[0m\u001b[0;34m)\u001b[0m\u001b[0;34m\u001b[0m\u001b[0m\n\u001b[0m\u001b[1;32m   2740\u001b[0m \u001b[0;34m\u001b[0m\u001b[0m\n\u001b[1;32m   2741\u001b[0m         \u001b[0;32melif\u001b[0m \u001b[0misinstance\u001b[0m\u001b[0;34m(\u001b[0m\u001b[0mvalue\u001b[0m\u001b[0;34m,\u001b[0m \u001b[0mDataFrame\u001b[0m\u001b[0;34m)\u001b[0m\u001b[0;34m:\u001b[0m\u001b[0;34m\u001b[0m\u001b[0m\n",
      "\u001b[0;32m/usr/local/lib/python3.6/dist-packages/pandas/core/frame.py\u001b[0m in \u001b[0;36mreindexer\u001b[0;34m(value)\u001b[0m\n\u001b[1;32m   2719\u001b[0m \u001b[0;34m\u001b[0m\u001b[0m\n\u001b[1;32m   2720\u001b[0m             \u001b[0;32mif\u001b[0m \u001b[0mvalue\u001b[0m\u001b[0;34m.\u001b[0m\u001b[0mindex\u001b[0m\u001b[0;34m.\u001b[0m\u001b[0mequals\u001b[0m\u001b[0;34m(\u001b[0m\u001b[0mself\u001b[0m\u001b[0;34m.\u001b[0m\u001b[0mindex\u001b[0m\u001b[0;34m)\u001b[0m \u001b[0;32mor\u001b[0m \u001b[0;32mnot\u001b[0m \u001b[0mlen\u001b[0m\u001b[0;34m(\u001b[0m\u001b[0mself\u001b[0m\u001b[0;34m.\u001b[0m\u001b[0mindex\u001b[0m\u001b[0;34m)\u001b[0m\u001b[0;34m:\u001b[0m\u001b[0;34m\u001b[0m\u001b[0m\n\u001b[0;32m-> 2721\u001b[0;31m                 \u001b[0mvalue\u001b[0m \u001b[0;34m=\u001b[0m \u001b[0mvalue\u001b[0m\u001b[0;34m.\u001b[0m\u001b[0m_values\u001b[0m\u001b[0;34m.\u001b[0m\u001b[0mcopy\u001b[0m\u001b[0;34m(\u001b[0m\u001b[0;34m)\u001b[0m\u001b[0;34m\u001b[0m\u001b[0m\n\u001b[0m\u001b[1;32m   2722\u001b[0m             \u001b[0;32melse\u001b[0m\u001b[0;34m:\u001b[0m\u001b[0;34m\u001b[0m\u001b[0m\n\u001b[1;32m   2723\u001b[0m \u001b[0;34m\u001b[0m\u001b[0m\n",
      "\u001b[0;31mKeyboardInterrupt\u001b[0m: "
     ]
    }
   ],
   "source": [
    "# Gross Tunning\n",
    "\n",
    "Best_Stra = 0\n",
    "Best_PM1 = 0\n",
    "Best_PM2 = 0\n",
    "Start_PM1 = 1100  # 380\n",
    "Start_PM2 = 1100   # 381\n",
    "Last_PM1 = 1250 # 1 dia = 1440, 30 dias = 43200 min\n",
    "Last_PM2 = 1350\n",
    "Steps_PM1 = 1\n",
    "Steps_PM2 = 1\n",
    "\n",
    "the_path = os.getcwd()\n",
    "data_path = os.path.join(the_path, '../data/processed-data/')\n",
    "file_name = 'processed.csv'\n",
    "file_path = data_path + file_name\n",
    "df = pd.read_csv(file_path, index_col='Date')\n",
    "\n",
    "df.drop(df.columns[df.columns.str.contains('unnamed',case = False)],axis = 1, inplace = True)\n",
    "df.index = pd.to_datetime(df.index)\n",
    "df_M = df.last('7M').copy()\n",
    "print(df_M.shape)\n",
    "\n",
    "#fig = plt.figure()\n",
    "#ax = fig.add_subplot(111)\n",
    "#plt.ion()\n",
    "\n",
    "#fig.show()\n",
    "#fig.canvas.draw()\n",
    "#i = 0\n",
    "#L_i = []\n",
    "#L_v = []\n",
    "\n",
    "#For cycle para ver cual es la mejor combinacion\n",
    "\n",
    "for pm1 in np.arange(Start_PM1, Last_PM1, Steps_PM1):\n",
    "    for pm2 in np.arange(Start_PM2, Last_PM2, Steps_PM2):\n",
    "        if (pm1<pm2) and (pm1/pm2>0.5):\n",
    "            # i += 1\n",
    "            Val_Stra = get_acum(pm1, pm2, df_M.copy())\n",
    "            # L_i.append(i)\n",
    "            # L_v.append(Val_Stra)\n",
    "            # ax.clear()\n",
    "            # ax.plot(L_i,L_v)\n",
    "            # fig.canvas.draw()\n",
    "            # print ('\\rActual || PM1: {} | PM2: {} | Score: {} || Best || PM1: {} | PM2: {} | Score: {}'.format(pm1,pm2,Val_Stra[0],Best_PM1,Best_PM2,Best_Stra),end='')\n",
    "            print ('\\rActual || PM1: {} | PM2: {} | Score: {}'.format(pm1,pm2,Val_Stra[0]),end='')\n",
    "            if (Val_Stra[0] > Best_Stra):\n",
    "                Best_Stra = Val_Stra[0]\n",
    "                Best_PM1 = pm1\n",
    "                Best_PM2 = pm2\n",
    "                print ('\\n')\n",
    "print('\\nBEST: {}'.format(Best_Stra))"
   ]
  },
  {
   "cell_type": "code",
   "execution_count": null,
   "metadata": {},
   "outputs": [],
   "source": [
    "150 - 281\n",
    "160 - 231\n",
    "170 - 271\n",
    "180 - 261\n",
    "190 - 221\n",
    "380 - 751\n",
    "590 - 1171"
   ]
  },
  {
   "cell_type": "code",
   "execution_count": null,
   "metadata": {},
   "outputs": [],
   "source": []
  }
 ],
 "metadata": {
  "kernelspec": {
   "display_name": "Python 3",
   "language": "python",
   "name": "python3"
  },
  "language_info": {
   "codemirror_mode": {
    "name": "ipython",
    "version": 3
   },
   "file_extension": ".py",
   "mimetype": "text/x-python",
   "name": "python",
   "nbconvert_exporter": "python",
   "pygments_lexer": "ipython3",
   "version": "3.6.5"
  }
 },
 "nbformat": 4,
 "nbformat_minor": 2
}
