{
 "cells": [
  {
   "cell_type": "code",
   "execution_count": 3,
   "metadata": {},
   "outputs": [
    {
     "name": "stderr",
     "output_type": "stream",
     "text": [
      "/usr/lib/python3.6/importlib/_bootstrap.py:219: RuntimeWarning: numpy.dtype size changed, may indicate binary incompatibility. Expected 96, got 88\n",
      "  return f(*args, **kwds)\n",
      "/usr/lib/python3.6/importlib/_bootstrap.py:219: RuntimeWarning: numpy.dtype size changed, may indicate binary incompatibility. Expected 96, got 88\n",
      "  return f(*args, **kwds)\n"
     ]
    }
   ],
   "source": [
    "import os\n",
    "import time\n",
    "import pandas as pd\n",
    "import numpy as np\n",
    "%matplotlib notebook\n",
    "import matplotlib.pyplot as plt"
   ]
  },
  {
   "cell_type": "code",
   "execution_count": 4,
   "metadata": {},
   "outputs": [],
   "source": [
    "def get_acum(pm1, pm2, Temp_df):\n",
    "    \n",
    "    Temp_df['PM1'] = Temp_df['Average'].rolling(pm1).mean()\n",
    "    Temp_df['PM2'] = Temp_df['Average'].rolling(pm2).mean()\n",
    "    Temp_df.dropna(inplace = True)\n",
    "    Temp_df['Posicion'] = np.where(Temp_df['PM1'] > Temp_df['PM2'], 1, -1)\n",
    "    Temp_df['Retornos'] = np.log(Temp_df['Average']/Temp_df['Average'].shift(1))\n",
    "    Temp_df.dropna(inplace = True)\n",
    "    Temp_df['Estrategia'] = Temp_df['Retornos']*Temp_df['Posicion'].shift(1)\n",
    "    Temp_df.dropna(inplace = True)\n",
    "    # Temp_df['Retacum'] = Temp_df['Retornos'].cumsum().apply(np.exp)\n",
    "    Temp_df['Estracum'] = Temp_df['Estrategia'].cumsum().apply(np.exp)\n",
    "    \n",
    "    return Temp_df['Estracum'].tail(1).copy()"
   ]
  },
  {
   "cell_type": "code",
   "execution_count": 5,
   "metadata": {},
   "outputs": [],
   "source": [
    "def best_strategy(pm1, pm2, Bitso):\n",
    "    \n",
    "    Bitso['PM1'] = Bitso['Average'].rolling(pm1).mean()\n",
    "    Bitso['PM2'] = Bitso['Average'].rolling(pm2).mean()\n",
    "    Bitso.dropna(inplace = True)\n",
    "    Bitso.plot(figsize=(12,8))\n",
    "    Bitso['Posicion'] = np.where(Bitso['PM1'] > Bitso['PM2'], 1, -1)\n",
    "    Bitso.plot(figsize=(12,8), secondary_y = 'Posicion')\n",
    "    Bitso['Retornos'] = np.log(Bitso['Average']/Bitso['Average'].shift(1))\n",
    "    Bitso.dropna(inplace = True)\n",
    "    Bitso['Estrategia'] = Bitso['Retornos']* Bitso['Posicion'].shift(1)\n",
    "    Bitso.dropna(inplace = True)\n",
    "    Bitso['Retacum'] = Bitso['Retornos'].cumsum().apply(np.exp)\n",
    "    Bitso['Estracum'] = Bitso['Estrategia'].cumsum().apply(np.exp)\n",
    "\n",
    "    #------------------Print it out\n",
    "    fig = plt.figure(figsize=(14,14))\n",
    "\n",
    "    ax1 = plt.subplot2grid((25,1),(0,0),rowspan = 8, colspan = 1)\n",
    "    Bitso['Average'].plot(title = ('Estrategia PMs ' + str(pm1*10) + ', ' + str(pm2*10)))\n",
    "    Bitso['PM1'].plot(ax=ax1)\n",
    "    Bitso['PM2'].plot(ax=ax1)\n",
    "\n",
    "    ax1.set_ylabel('Ultimo Precio, PM1, PM2')\n",
    "    plt.xticks([],[])\n",
    "\n",
    "    ax2 = plt.subplot2grid((25,1),(8,0), rowspan = 3, colspan = 1)\n",
    "    Bitso['Posicion'].plot(ylim=[-1.1,1.1])\n",
    "    ax2.set_ylabel('Posicion')\n",
    "    plt.xticks([],[])\n",
    "\n",
    "    ax3=plt.subplot2grid((25,1),(11,0),rowspan = 8, colspan = 1)\n",
    "    Bitso[['Retacum', 'Estracum']].plot(ax = ax3)\n",
    "    ax3.set_ylabel('Retornos Acumulados')\n",
    "    plt.xticks([],[])\n",
    "    \n",
    "    return Bitso"
   ]
  },
  {
   "cell_type": "code",
   "execution_count": 6,
   "metadata": {},
   "outputs": [
    {
     "data": {
      "text/plain": [
       "'\\nBest So Far:\\nPM1: 1099\\nPM2: 1145\\nScore: 4.1813\\n\\n7 DIAS:\\nPM1: 100, 127, 139, 142, 157, 250, 598, 631, 712, 733, 742, 763, 769, 772, 775, 778, 781, 787, 847, 958, 1096, 1135, 1180\\nPM2: 251, 211, 211, 211, 161, 291, 621, 1161, 1241, 1061, 1045, 1051, 911, 1061, 1061, 1061, 821, 881, 1161, 1101, 1201, 1181\\nScore: 1.16, 1.11, 1.12, 1.16, 1.19, 1.08, 1.08, 1.09, 1.09, 1.1, 1.1, 1.1, 1.1, 1.11, 1.11, 1.11, 1.15, 1.1, 1.08, 1.12, 1.13\\n'"
      ]
     },
     "execution_count": 6,
     "metadata": {},
     "output_type": "execute_result"
    }
   ],
   "source": [
    "'''\n",
    "Best So Far:\n",
    "PM1: 1099\n",
    "PM2: 1145\n",
    "Score: 4.1813\n",
    "\n",
    "7 DIAS:\n",
    "PM1: 100, 127, 139, 142, 157, 250, 598, 631, 712, 733, 742, 763, 769, 772, 775, 778, 781, 787, 847, 958, 1096, 1135, 1180\n",
    "PM2: 251, 211, 211, 211, 161, 291, 621, 1161, 1241, 1061, 1045, 1051, 911, 1061, 1061, 1061, 821, 881, 1161, 1101, 1201, 1181\n",
    "Score: 1.16, 1.11, 1.12, 1.16, 1.19, 1.08, 1.08, 1.09, 1.09, 1.1, 1.1, 1.1, 1.1, 1.11, 1.11, 1.11, 1.15, 1.1, 1.08, 1.12, 1.13\n",
    "'''"
   ]
  },
  {
   "cell_type": "code",
   "execution_count": 30,
   "metadata": {
    "scrolled": true
   },
   "outputs": [
    {
     "name": "stdout",
     "output_type": "stream",
     "text": [
      "(4000, 1)\n",
      "Actual || PM1: 40 | PM2: 41 | Score: 1.5046292781354245\n",
      "\n",
      "Actual || PM1: 40 | PM2: 53 | Score: 1.5657430787875577\n",
      "\n",
      "Actual || PM1: 40 | PM2: 56 | Score: 1.8528035659194668\n",
      "\n",
      "Actual || PM1: 40 | PM2: 62 | Score: 2.1066086504401804\n",
      "\n",
      "Actual || PM1: 41 | PM2: 64 | Score: 2.19717181655102775\n",
      "\n",
      "Actual || PM1: 43 | PM2: 56 | Score: 2.33827573858125168\n",
      "\n",
      "Actual || PM1: 43 | PM2: 64 | Score: 2.5457397551601887\n",
      "\n",
      "Actual || PM1: 44 | PM2: 56 | Score: 2.93745106463570065\n",
      "\n",
      "Actual || PM1: 115 | PM2: 166 | Score: 2.95577998858622956\n",
      "\n",
      "Actual || PM1: 116 | PM2: 167 | Score: 2.9940180317405587\n",
      "\n",
      "Actual || PM1: 122 | PM2: 152 | Score: 3.0414799769297842\n",
      "\n",
      "Actual || PM1: 122 | PM2: 153 | Score: 3.1254840235748187\n",
      "\n",
      "Actual || PM1: 122 | PM2: 155 | Score: 3.227128725188943\n",
      "\n",
      "Actual || PM1: 123 | PM2: 154 | Score: 3.2780567697422814\n",
      "\n",
      "Actual || PM1: 124 | PM2: 154 | Score: 3.3103976110583586\n",
      "\n",
      "Actual || PM1: 130 | PM2: 135 | Score: 3.3627907723941813\n",
      "\n",
      "Actual || PM1: 130 | PM2: 136 | Score: 3.698933040624883\n",
      "\n",
      "Actual || PM1: 149 | PM2: 179 | Score: 1.6173048125607776\n",
      "BEST: 3.698933040624883\n"
     ]
    }
   ],
   "source": [
    "# Gross Tunning\n",
    "\n",
    "Best_Stra = 0\n",
    "Best_PM1 = 0\n",
    "Best_PM2 = 0\n",
    "Start_PM1 = 40  # 380\n",
    "Start_PM2 = 40  # 381\n",
    "Last_PM1 = 150 # 1 dia = 1440, 30 dias = 43200 min\n",
    "Last_PM2 = 180\n",
    "Steps_PM1 = 1\n",
    "Steps_PM2 = 1\n",
    "\n",
    "the_path = os.getcwd()\n",
    "data_path = os.path.join(the_path, '../data/processed-data/')\n",
    "file_name = 'resampled_60min.csv'\n",
    "file_path = data_path + file_name\n",
    "df = pd.read_csv(file_path, index_col='Date')\n",
    "\n",
    "df.drop(df.columns[df.columns.str.contains('unnamed',case = False)],axis = 1, inplace = True)\n",
    "df.index = pd.to_datetime(df.index)\n",
    "df_M = df.copy()\n",
    "print(df_M.shape)\n",
    "\n",
    "#fig = plt.figure()\n",
    "#ax = fig.add_subplot(111)\n",
    "#plt.ion()\n",
    "\n",
    "#fig.show()\n",
    "#fig.canvas.draw()\n",
    "#i = 0\n",
    "#L_i = []\n",
    "#L_v = []\n",
    "\n",
    "#For cycle para ver cual es la mejor combinacion\n",
    "\n",
    "for pm1 in np.arange(Start_PM1, Last_PM1, Steps_PM1):\n",
    "    for pm2 in np.arange(Start_PM2, Last_PM2, Steps_PM2):\n",
    "        if (pm1<pm2) and (pm1/pm2>0.35):\n",
    "            # i += 1\n",
    "            Val_Stra = get_acum(pm1, pm2, df_M.copy())\n",
    "            # L_i.append(i)\n",
    "            # L_v.append(Val_Stra)\n",
    "            # ax.clear()\n",
    "            # ax.plot(L_i,L_v)\n",
    "            # fig.canvas.draw()\n",
    "            # print ('\\rActual || PM1: {} | PM2: {} | Score: {} || Best || PM1: {} | PM2: {} | Score: {}'.format(pm1,pm2,Val_Stra[0],Best_PM1,Best_PM2,Best_Stra),end='')\n",
    "            print ('\\rActual || PM1: {} | PM2: {} | Score: {}'.format(pm1,pm2,Val_Stra[0]),end='')\n",
    "            if (Val_Stra[0] > Best_Stra):\n",
    "                Best_Stra = Val_Stra[0]\n",
    "                Best_PM1 = pm1\n",
    "                Best_PM2 = pm2\n",
    "                print ('\\n')\n",
    "print('\\nBEST: {}'.format(Best_Stra))"
   ]
  },
  {
   "cell_type": "markdown",
   "metadata": {},
   "source": [
    " 5 min = PM1: 1103 | PM2: 1107 | Score: 1.3046169725292444\n",
    "10 min = PM1: 463 | PM2: 486 | Score: 1.617775237893657\n",
    "15 min = PM1: 209 | PM2: 215 | Score: 1.8822113944465655\n",
    "30 min = PM1: 103 | PM2: 110 | Score: 2.1155620079972404\n",
    "60 min = PM1: 130 | PM2: 136 | Score: 3.698933040624883\n",
    "         PM1: 44  | PM2: 56  | Score: 2.93745106463570065"
   ]
  },
  {
   "cell_type": "markdown",
   "metadata": {},
   "source": [
    "\n",
    "    Freq: 1 min -> 2.78 days\n",
    "    Freq: 5 min -> 13.89 days\n",
    "    Freq: 10 min -> 27.78 days\n",
    "    Freq: 15 min -> 41.67 days\n",
    "    Freq: 30 min -> 83.33 days\n",
    "    Freq: 60 min -> 166.67 days\n",
    "    Freq: 2 hrs -> 333.33 days\n",
    "    Freq: 3 hrs -> 1.36 years\n",
    "    Freq: 5 hrs -> 2 years\n",
    "    Freq: 8 hrs -> 2 years\n",
    "    Freq: 12 hrs -> 2 years\n",
    "    Freq: 24 hrs -> 2 years\n"
   ]
  }
 ],
 "metadata": {
  "kernelspec": {
   "display_name": "Python 3",
   "language": "python",
   "name": "python3"
  },
  "language_info": {
   "codemirror_mode": {
    "name": "ipython",
    "version": 3
   },
   "file_extension": ".py",
   "mimetype": "text/x-python",
   "name": "python",
   "nbconvert_exporter": "python",
   "pygments_lexer": "ipython3",
   "version": "3.6.5"
  }
 },
 "nbformat": 4,
 "nbformat_minor": 2
}
